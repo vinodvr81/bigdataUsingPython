{
 "cells": [
  {
   "cell_type": "code",
   "execution_count": 1,
   "metadata": {},
   "outputs": [
    {
     "name": "stdout",
     "output_type": "stream",
     "text": [
      "narodnaya_gazeta\t1\n",
      "narodnaya_volya\t9\n"
     ]
    }
   ],
   "source": [
    "from pyspark import SparkConf, SparkContext\n",
    "sc = SparkContext(conf=SparkConf().setAppName(\"MyApp\").setMaster(\"local\"))\n",
    "\n",
    "import re\n",
    "\n",
    "def parse_article(line):\n",
    "    try:\n",
    "        article_id, text = line.rstrip().split('\\t', 1)\n",
    "        text = re.sub(\"^\\W+|\\W+$\", \"\", text, flags=re.UNICODE)\n",
    "        words = re.split(\"\\W*\\s+\\W*\", text, flags=re.UNICODE)\n",
    "        return words\n",
    "    except ValueError as e:\n",
    "        return []\n",
    "    \n",
    "def pair_words(words):\n",
    "    result = list()\n",
    "    for word1, word2 in zip(words, words[1:]):\n",
    "        result.append((word1.lower() + \"_\" + word2.lower(), 1))\n",
    "    return result\n",
    "    \n",
    "result = (sc.textFile(\"/data/wiki/en_articles_part/articles-part\", 16)\n",
    "        .map(parse_article)\n",
    "        .flatMap(pair_words)\n",
    "        .reduceByKey(lambda x,y : x+y)\n",
    "        .filter(lambda word: word[0][:9] == \"narodnaya\")\n",
    "       ).collect()\n",
    "\n",
    "for key, value in result:\n",
    "    print(\"{0}\\t{1}\".format(key,value))"
   ]
  }
 ],
 "metadata": {
  "kernelspec": {
   "display_name": "Python 2",
   "language": "python",
   "name": "python2"
  },
  "language_info": {
   "codemirror_mode": {
    "name": "ipython",
    "version": 2
   },
   "file_extension": ".py",
   "mimetype": "text/x-python",
   "name": "python",
   "nbconvert_exporter": "python",
   "pygments_lexer": "ipython2",
   "version": "2.7.12"
  }
 },
 "nbformat": 4,
 "nbformat_minor": 2
}
