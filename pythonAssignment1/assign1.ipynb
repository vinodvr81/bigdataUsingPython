{
 "cells": [
  {
   "cell_type": "code",
   "execution_count": 1,
   "metadata": {},
   "outputs": [
    {
     "name": "stdout",
     "output_type": "stream",
     "text": [
      "Found 2 items\n",
      "drwxr-xr-x   - root supergroup          0 2017-09-10 20:34 /data\n",
      "drwxr-xr-x   - root supergroup          0 2017-09-10 19:07 /user\n"
     ]
    }
   ],
   "source": [
    "%%bash\n",
    "hdfs dfs -ls /"
   ]
  },
  {
   "cell_type": "code",
   "execution_count": 2,
   "metadata": {},
   "outputs": [
    {
     "name": "stdout",
     "output_type": "stream",
     "text": [
      "Found 1 items\r\n",
      "drwxrwxrwx   - jovyan supergroup          0 2017-09-10 20:34 /data/wiki/en_articles_part\r\n"
     ]
    }
   ],
   "source": [
    "! hdfs dfs -ls /data/wiki"
   ]
  },
  {
   "cell_type": "code",
   "execution_count": 3,
   "metadata": {},
   "outputs": [
    {
     "name": "stdout",
     "output_type": "stream",
     "text": [
      "73.3 M  /data/wiki\r\n"
     ]
    }
   ],
   "source": [
    "! hdfs dfs -du -h /data"
   ]
  },
  {
   "cell_type": "code",
   "execution_count": 6,
   "metadata": {},
   "outputs": [
    {
     "name": "stdout",
     "output_type": "stream",
     "text": [
      "Connecting to namenode via http://localhost:50070/fsck?ugi=jovyan&files=1&blocks=1&locations=1&path=%2Fdata%2Fwiki%2Fen_articles_part%2Farticles-part\n",
      "FSCK started by jovyan (auth:SIMPLE) from /127.0.0.1 for path /data/wiki/en_articles_part/articles-part at Tue Mar 05 10:06:32 UTC 2019\n",
      "/data/wiki/en_articles_part/articles-part 76861985 bytes, 1 block(s):  OK\n",
      "0. BP-912138591-172.17.0.1-1508245861251:blk_1073741825_1001 len=76861985 Live_repl=1 [DatanodeInfoWithStorage[127.0.0.1:50010,DS-abfda850-d766-4f78-a27c-3744043afccc,DISK]]\n",
      "\n",
      "Status: HEALTHY\n",
      " Total size:\t76861985 B\n",
      " Total dirs:\t0\n",
      " Total files:\t1\n",
      " Total symlinks:\t\t0\n",
      " Total blocks (validated):\t1 (avg. block size 76861985 B)\n",
      " Minimally replicated blocks:\t1 (100.0 %)\n",
      " Over-replicated blocks:\t0 (0.0 %)\n",
      " Under-replicated blocks:\t0 (0.0 %)\n",
      " Mis-replicated blocks:\t\t0 (0.0 %)\n",
      " Default replication factor:\t1\n",
      " Average block replication:\t1.0\n",
      " Corrupt blocks:\t\t0\n",
      " Missing replicas:\t\t0 (0.0 %)\n",
      " Number of data-nodes:\t\t1\n",
      " Number of racks:\t\t1\n",
      "FSCK ended at Tue Mar 05 10:06:32 UTC 2019 in 17 milliseconds\n",
      "\n",
      "\n",
      "The filesystem under path '/data/wiki/en_articles_part/articles-part' is HEALTHY\n"
     ]
    }
   ],
   "source": [
    "! hdfs fsck /data/wiki/en_articles_part/articles-part -files -blocks -locations"
   ]
  },
  {
   "cell_type": "code",
   "execution_count": 7,
   "metadata": {
    "scrolled": true
   },
   "outputs": [
    {
     "name": "stdout",
     "output_type": "stream",
     "text": [
      "Connecting to namenode via http://localhost:50070/fsck?ugi=jovyan&blockId=blk_1073741825+&path=%2Fdata%2Fwiki%2Fen_articles_part%2Farticles-part\n",
      "FSCK started by jovyan (auth:SIMPLE) from /127.0.0.1 at Tue Mar 05 10:09:16 UTC 2019\n",
      "\n",
      "Block Id: blk_1073741825\n",
      "Block belongs to: /data/wiki/en_articles_part/articles-part\n",
      "No. of Expected Replica: 1\n",
      "No. of live Replica: 1\n",
      "No. of excess Replica: 0\n",
      "No. of stale Replica: 0\n",
      "No. of decommissioned Replica: 0\n",
      "No. of decommissioning Replica: 0\n",
      "No. of corrupted Replica: 0\n",
      "Block replica on datanode/rack: 1ad0ecc7064f/default-rack is HEALTHY\n"
     ]
    }
   ],
   "source": [
    "! hdfs fsck /data/wiki/en_articles_part/articles-part -blockId blk_1073741825"
   ]
  },
  {
   "cell_type": "code",
   "execution_count": null,
   "metadata": {},
   "outputs": [],
   "source": []
  }
 ],
 "metadata": {
  "kernelspec": {
   "display_name": "Python 2",
   "language": "python",
   "name": "python2"
  },
  "language_info": {
   "codemirror_mode": {
    "name": "ipython",
    "version": 2
   },
   "file_extension": ".py",
   "mimetype": "text/x-python",
   "name": "python",
   "nbconvert_exporter": "python",
   "pygments_lexer": "ipython2",
   "version": "2.7.12"
  }
 },
 "nbformat": 4,
 "nbformat_minor": 2
}
