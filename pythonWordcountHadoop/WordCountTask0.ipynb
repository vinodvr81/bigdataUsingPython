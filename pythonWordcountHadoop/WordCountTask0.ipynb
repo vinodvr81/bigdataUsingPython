{
 "cells": [
  {
   "cell_type": "code",
   "execution_count": 1,
   "metadata": {},
   "outputs": [
    {
     "name": "stdout",
     "output_type": "stream",
     "text": [
      "Overwriting mapper.py\n"
     ]
    }
   ],
   "source": [
    "%%writefile mapper.py\n",
    "\n",
    "import sys\n",
    "import re\n",
    "\n",
    "reload(sys)\n",
    "sys.setdefaultencoding('utf-8') # required to convert to unicode\n",
    "\n",
    "for line in sys.stdin:\n",
    "    try:\n",
    "        article_id, text = unicode(line.strip()).split('\\t', 1)\n",
    "    except ValueError as e:\n",
    "        continue\n",
    "    words = re.split(\"\\W*\\s+\\W*\", text, flags=re.UNICODE)\n",
    "    for word in words:\n",
    "        print >> sys.stderr, \"reporter:counter:Wiki stats,Total words,%d\" % 1\n",
    "        print \"%s\\t%d\" % (word.lower(), 1)"
   ]
  },
  {
   "cell_type": "code",
   "execution_count": 2,
   "metadata": {},
   "outputs": [
    {
     "name": "stdout",
     "output_type": "stream",
     "text": [
      "Overwriting reducer.py\n"
     ]
    }
   ],
   "source": [
    "%%writefile reducer.py\n",
    "\n",
    "import sys\n",
    "\n",
    "current_key = None\n",
    "word_sum = 0"
   ]
  },
  {
   "cell_type": "code",
   "execution_count": 3,
   "metadata": {},
   "outputs": [
    {
     "name": "stdout",
     "output_type": "stream",
     "text": [
      "Appending to reducer.py\n"
     ]
    }
   ],
   "source": [
    "%%writefile -a reducer.py\n",
    "\n",
    "for line in sys.stdin:\n",
    "    try:\n",
    "        key, count = line.strip().split('\\t', 1)\n",
    "        count = int(count)\n",
    "    except ValueError as e:\n",
    "        continue\n",
    "    if current_key != key:\n",
    "        if current_key:\n",
    "            print \"%s\\t%d\" % (current_key, word_sum)\n",
    "        word_sum = 0\n",
    "        current_key = key\n",
    "    word_sum += count\n",
    "\n",
    "if current_key:\n",
    "    print \"%s\\t%d\" % (current_key, word_sum)"
   ]
  },
  {
   "cell_type": "code",
   "execution_count": 4,
   "metadata": {},
   "outputs": [
    {
     "name": "stdout",
     "output_type": "stream",
     "text": [
      "Found 1 items\r\n",
      "drwxrwxrwx   - jovyan supergroup          0 2018-08-01 17:15 /data/wiki/en_articles_part\r\n"
     ]
    }
   ],
   "source": [
    "! hdfs dfs -ls /data/wiki"
   ]
  },
  {
   "cell_type": "code",
   "execution_count": 5,
   "metadata": {},
   "outputs": [
    {
     "name": "stdout",
     "output_type": "stream",
     "text": [
      "0%however\t1\n",
      "0&\\mathrm{if\t1\n",
      "0(8)320-1234\t1\n",
      "0)).(1\t2\n",
      "0,03\t1\n",
      "0,1,...,n\t1\n",
      "0,1,0\t1\n",
      "0,1,\\dots,n\t1\n",
      "0,5\t1\n",
      "0,50\t1\n"
     ]
    },
    {
     "name": "stderr",
     "output_type": "stream",
     "text": [
      "rm: `wordcount_result_1552279655441752': No such file or directory\n",
      "19/03/11 04:47:47 INFO client.RMProxy: Connecting to ResourceManager at /0.0.0.0:8032\n",
      "19/03/11 04:47:48 INFO client.RMProxy: Connecting to ResourceManager at /0.0.0.0:8032\n",
      "19/03/11 04:47:51 WARN hdfs.DataStreamer: Caught exception\n",
      "java.lang.InterruptedException\n",
      "\tat java.lang.Object.wait(Native Method)\n",
      "\tat java.lang.Thread.join(Thread.java:1252)\n",
      "\tat java.lang.Thread.join(Thread.java:1326)\n",
      "\tat org.apache.hadoop.hdfs.DataStreamer.closeResponder(DataStreamer.java:927)\n",
      "\tat org.apache.hadoop.hdfs.DataStreamer.endBlock(DataStreamer.java:578)\n",
      "\tat org.apache.hadoop.hdfs.DataStreamer.run(DataStreamer.java:755)\n",
      "19/03/11 04:47:51 INFO mapred.FileInputFormat: Total input files to process : 1\n",
      "19/03/11 04:47:51 INFO mapreduce.JobSubmitter: number of splits:2\n",
      "19/03/11 04:47:52 INFO mapreduce.JobSubmitter: Submitting tokens for job: job_1552278467380_0002\n",
      "19/03/11 04:47:52 INFO impl.YarnClientImpl: Submitted application application_1552278467380_0002\n",
      "19/03/11 04:47:52 INFO mapreduce.Job: The url to track the job: http://82e8f11db6b4:8088/proxy/application_1552278467380_0002/\n",
      "19/03/11 04:47:52 INFO mapreduce.Job: Running job: job_1552278467380_0002\n",
      "19/03/11 04:48:11 INFO mapreduce.Job: Job job_1552278467380_0002 running in uber mode : false\n",
      "19/03/11 04:48:11 INFO mapreduce.Job:  map 0% reduce 0%\n",
      "19/03/11 04:48:42 INFO mapreduce.Job:  map 2% reduce 0%\n",
      "19/03/11 04:48:48 INFO mapreduce.Job:  map 3% reduce 0%\n",
      "19/03/11 04:48:54 INFO mapreduce.Job:  map 4% reduce 0%\n",
      "19/03/11 04:49:00 INFO mapreduce.Job:  map 6% reduce 0%\n",
      "19/03/11 04:49:11 INFO mapreduce.Job:  map 8% reduce 0%\n",
      "19/03/11 04:49:17 INFO mapreduce.Job:  map 9% reduce 0%\n",
      "19/03/11 04:49:23 INFO mapreduce.Job:  map 10% reduce 0%\n",
      "19/03/11 04:49:29 INFO mapreduce.Job:  map 11% reduce 0%\n",
      "19/03/11 04:49:35 INFO mapreduce.Job:  map 12% reduce 0%\n",
      "19/03/11 04:49:41 INFO mapreduce.Job:  map 14% reduce 0%\n",
      "19/03/11 04:49:48 INFO mapreduce.Job:  map 15% reduce 0%\n",
      "19/03/11 04:49:54 INFO mapreduce.Job:  map 16% reduce 0%\n",
      "19/03/11 04:50:00 INFO mapreduce.Job:  map 17% reduce 0%\n",
      "19/03/11 04:50:06 INFO mapreduce.Job:  map 18% reduce 0%\n",
      "19/03/11 04:50:12 INFO mapreduce.Job:  map 19% reduce 0%\n",
      "19/03/11 04:50:18 INFO mapreduce.Job:  map 20% reduce 0%\n",
      "19/03/11 04:50:24 INFO mapreduce.Job:  map 21% reduce 0%\n",
      "19/03/11 04:50:30 INFO mapreduce.Job:  map 22% reduce 0%\n",
      "19/03/11 04:50:36 INFO mapreduce.Job:  map 23% reduce 0%\n",
      "19/03/11 04:50:42 INFO mapreduce.Job:  map 24% reduce 0%\n",
      "19/03/11 04:50:48 INFO mapreduce.Job:  map 25% reduce 0%\n",
      "19/03/11 04:50:54 INFO mapreduce.Job:  map 26% reduce 0%\n",
      "19/03/11 04:51:00 INFO mapreduce.Job:  map 27% reduce 0%\n",
      "19/03/11 04:51:06 INFO mapreduce.Job:  map 28% reduce 0%\n",
      "19/03/11 04:51:13 INFO mapreduce.Job:  map 29% reduce 0%\n",
      "19/03/11 04:51:19 INFO mapreduce.Job:  map 30% reduce 0%\n",
      "19/03/11 04:51:30 INFO mapreduce.Job:  map 31% reduce 0%\n",
      "19/03/11 04:51:37 INFO mapreduce.Job:  map 32% reduce 0%\n",
      "19/03/11 04:51:49 INFO mapreduce.Job:  map 33% reduce 0%\n",
      "19/03/11 04:51:55 INFO mapreduce.Job:  map 34% reduce 0%\n",
      "19/03/11 04:52:07 INFO mapreduce.Job:  map 35% reduce 0%\n",
      "19/03/11 04:52:13 INFO mapreduce.Job:  map 36% reduce 0%\n",
      "19/03/11 04:52:20 INFO mapreduce.Job:  map 37% reduce 0%\n",
      "19/03/11 04:52:31 INFO mapreduce.Job:  map 38% reduce 0%\n",
      "19/03/11 04:52:38 INFO mapreduce.Job:  map 39% reduce 0%\n",
      "19/03/11 04:52:49 INFO mapreduce.Job:  map 40% reduce 0%\n",
      "19/03/11 04:53:07 INFO mapreduce.Job:  map 41% reduce 0%\n",
      "19/03/11 04:53:19 INFO mapreduce.Job:  map 42% reduce 0%\n",
      "19/03/11 04:53:32 INFO mapreduce.Job:  map 43% reduce 0%\n",
      "19/03/11 04:53:50 INFO mapreduce.Job:  map 44% reduce 0%\n",
      "19/03/11 04:54:02 INFO mapreduce.Job:  map 45% reduce 0%\n",
      "19/03/11 04:54:14 INFO mapreduce.Job:  map 46% reduce 0%\n",
      "19/03/11 04:54:32 INFO mapreduce.Job:  map 47% reduce 0%\n",
      "19/03/11 04:54:57 INFO mapreduce.Job:  map 48% reduce 0%\n",
      "19/03/11 04:55:09 INFO mapreduce.Job:  map 49% reduce 0%\n",
      "19/03/11 04:55:15 INFO mapreduce.Job:  map 50% reduce 0%\n",
      "19/03/11 04:55:27 INFO mapreduce.Job:  map 51% reduce 0%\n",
      "19/03/11 04:55:33 INFO mapreduce.Job:  map 53% reduce 0%\n",
      "19/03/11 04:55:45 INFO mapreduce.Job:  map 54% reduce 0%\n",
      "19/03/11 04:55:51 INFO mapreduce.Job:  map 55% reduce 0%\n",
      "19/03/11 04:55:57 INFO mapreduce.Job:  map 56% reduce 0%\n",
      "19/03/11 04:56:04 INFO mapreduce.Job:  map 57% reduce 0%\n",
      "19/03/11 04:56:10 INFO mapreduce.Job:  map 58% reduce 0%\n",
      "19/03/11 04:56:15 INFO mapreduce.Job:  map 59% reduce 0%\n",
      "19/03/11 04:56:21 INFO mapreduce.Job:  map 60% reduce 0%\n",
      "19/03/11 04:56:27 INFO mapreduce.Job:  map 61% reduce 0%\n",
      "19/03/11 04:56:40 INFO mapreduce.Job:  map 62% reduce 0%\n",
      "19/03/11 04:56:46 INFO mapreduce.Job:  map 64% reduce 0%\n",
      "19/03/11 04:56:52 INFO mapreduce.Job:  map 65% reduce 0%\n",
      "19/03/11 04:56:58 INFO mapreduce.Job:  map 66% reduce 0%\n",
      "19/03/11 04:57:04 INFO mapreduce.Job:  map 67% reduce 0%\n",
      "19/03/11 04:57:30 INFO mapreduce.Job:  map 83% reduce 0%\n",
      "19/03/11 04:57:32 INFO mapreduce.Job:  map 100% reduce 0%\n",
      "19/03/11 04:58:17 INFO mapreduce.Job:  map 100% reduce 9%\n",
      "19/03/11 04:58:23 INFO mapreduce.Job:  map 100% reduce 23%\n",
      "19/03/11 04:58:27 INFO mapreduce.Job:  map 100% reduce 32%\n",
      "19/03/11 04:58:29 INFO mapreduce.Job:  map 100% reduce 43%\n",
      "19/03/11 04:58:31 INFO mapreduce.Job:  map 100% reduce 52%\n",
      "19/03/11 04:58:33 INFO mapreduce.Job:  map 100% reduce 64%\n",
      "19/03/11 04:58:35 INFO mapreduce.Job:  map 100% reduce 68%\n",
      "19/03/11 04:58:37 INFO mapreduce.Job:  map 100% reduce 71%\n",
      "19/03/11 04:58:39 INFO mapreduce.Job:  map 100% reduce 75%\n",
      "19/03/11 04:58:58 INFO mapreduce.Job:  map 100% reduce 88%\n",
      "19/03/11 04:59:00 INFO mapreduce.Job:  map 100% reduce 100%\n",
      "19/03/11 04:59:01 INFO mapreduce.Job: Job job_1552278467380_0002 completed successfully\n",
      "19/03/11 04:59:02 INFO mapreduce.Job: Counters: 51\n",
      "\tFile System Counters\n",
      "\t\tFILE: Number of bytes read=17954826\n",
      "\t\tFILE: Number of bytes written=28258053\n",
      "\t\tFILE: Number of read operations=0\n",
      "\t\tFILE: Number of large read operations=0\n",
      "\t\tFILE: Number of write operations=0\n",
      "\t\tHDFS: Number of bytes read=76874501\n",
      "\t\tHDFS: Number of bytes written=5370513\n",
      "\t\tHDFS: Number of read operations=30\n",
      "\t\tHDFS: Number of large read operations=0\n",
      "\t\tHDFS: Number of write operations=16\n",
      "\tJob Counters \n",
      "\t\tKilled reduce tasks=2\n",
      "\t\tLaunched map tasks=2\n",
      "\t\tLaunched reduce tasks=10\n",
      "\t\tData-local map tasks=2\n",
      "\t\tTotal time spent by all maps in occupied slots (ms)=1115409\n",
      "\t\tTotal time spent by all reduces in occupied slots (ms)=420900\n",
      "\t\tTotal time spent by all map tasks (ms)=1115409\n",
      "\t\tTotal time spent by all reduce tasks (ms)=420900\n",
      "\t\tTotal vcore-milliseconds taken by all map tasks=1115409\n",
      "\t\tTotal vcore-milliseconds taken by all reduce tasks=420900\n",
      "\t\tTotal megabyte-milliseconds taken by all map tasks=1142178816\n",
      "\t\tTotal megabyte-milliseconds taken by all reduce tasks=431001600\n",
      "\tMap-Reduce Framework\n",
      "\t\tMap input records=4100\n",
      "\t\tMap output records=11937375\n",
      "\t\tMap output bytes=97842436\n",
      "\t\tMap output materialized bytes=8952763\n",
      "\t\tInput split bytes=228\n",
      "\t\tCombine input records=11937375\n",
      "\t\tCombine output records=640011\n",
      "\t\tReduce input groups=427175\n",
      "\t\tReduce shuffle bytes=8952763\n",
      "\t\tReduce input records=640011\n",
      "\t\tReduce output records=427175\n",
      "\t\tSpilled Records=1920033\n",
      "\t\tShuffled Maps =16\n",
      "\t\tFailed Shuffles=0\n",
      "\t\tMerged Map outputs=16\n",
      "\t\tGC time elapsed (ms)=8056\n",
      "\t\tCPU time spent (ms)=496780\n",
      "\t\tPhysical memory (bytes) snapshot=1438994432\n",
      "\t\tVirtual memory (bytes) snapshot=19322175488\n",
      "\t\tTotal committed heap usage (bytes)=822738944\n",
      "\tShuffle Errors\n",
      "\t\tBAD_ID=0\n",
      "\t\tCONNECTION=0\n",
      "\t\tIO_ERROR=0\n",
      "\t\tWRONG_LENGTH=0\n",
      "\t\tWRONG_MAP=0\n",
      "\t\tWRONG_REDUCE=0\n",
      "\tWiki stats\n",
      "\t\tTotal words=11937375\n",
      "\tFile Input Format Counters \n",
      "\t\tBytes Read=76874273\n",
      "\tFile Output Format Counters \n",
      "\t\tBytes Written=5370513\n",
      "19/03/11 04:59:02 INFO streaming.StreamJob: Output directory: wordcount_result_1552279655441752\n",
      "cat: Unable to write to output stream.\n"
     ]
    }
   ],
   "source": [
    "%%bash\n",
    "\n",
    "OUT_DIR=\"wordcount_result_\"$(date +\"%s%6N\")\n",
    "NUM_REDUCERS=8\n",
    "\n",
    "hdfs dfs -rm -r -skipTrash ${OUT_DIR} > /dev/null\n",
    "\n",
    "yarn jar /opt/cloudera/parcels/CDH/lib/hadoop-mapreduce/hadoop-streaming.jar \\\n",
    "    -D mapred.jab.name=\"Streaming wordCount\" \\\n",
    "    -D mapreduce.job.reduces=${NUM_REDUCERS} \\\n",
    "    -files mapper.py,reducer.py \\\n",
    "    -mapper \"python mapper.py\" \\\n",
    "    -combiner \"python reducer.py\" \\\n",
    "    -reducer \"python reducer.py\" \\\n",
    "    -input /data/wiki/en_articles_part \\\n",
    "    -output ${OUT_DIR} > /dev/null\n",
    "\n",
    "hdfs dfs -cat ${OUT_DIR}/part-00000 | head"
   ]
  },
  {
   "cell_type": "code",
   "execution_count": null,
   "metadata": {},
   "outputs": [],
   "source": []
  }
 ],
 "metadata": {
  "kernelspec": {
   "display_name": "Python 2",
   "language": "python",
   "name": "python2"
  },
  "language_info": {
   "codemirror_mode": {
    "name": "ipython",
    "version": 2
   },
   "file_extension": ".py",
   "mimetype": "text/x-python",
   "name": "python",
   "nbconvert_exporter": "python",
   "pygments_lexer": "ipython2",
   "version": "2.7.12"
  }
 },
 "nbformat": 4,
 "nbformat_minor": 2
}
